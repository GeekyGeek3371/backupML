{
 "metadata": {
  "language_info": {
   "codemirror_mode": {
    "name": "ipython",
    "version": 3
   },
   "file_extension": ".py",
   "mimetype": "text/x-python",
   "name": "python",
   "nbconvert_exporter": "python",
   "pygments_lexer": "ipython3",
   "version": "3.6.9-final"
  },
  "orig_nbformat": 2,
  "kernelspec": {
   "name": "Python 3.6.9 64-bit",
   "display_name": "Python 3.6.9 64-bit",
   "metadata": {
    "interpreter": {
     "hash": "31f2aee4e71d21fbe5cf8b01ff0e069b9275f58929596ceb00d14d90e3e16cd6"
    }
   }
  }
 },
 "nbformat": 4,
 "nbformat_minor": 2,
 "cells": [
  {
   "cell_type": "code",
   "execution_count": 1,
   "metadata": {},
   "outputs": [],
   "source": [
    "import numpy as np  #Association rule mining algo\n",
    "import pandas as pd\n",
    "from apyori import apriori"
   ]
  },
  {
   "cell_type": "code",
   "execution_count": 2,
   "metadata": {},
   "outputs": [
    {
     "output_type": "stream",
     "name": "stdout",
     "text": [
      "Sayak Maji-18BCE0261\n                         0                     1             2     3        4  \\\n0                       ip             date_time       request  step  session   \n1     c210-49-32-6.rochd2.  18/Apr/2005:21:25:07             /     1        3   \n2     visp.inabox.telstra.  19/Apr/2005:08:24:28             /     1       12   \n3     dsl-61-95-54-84.requ  19/Apr/2005:08:33:01             /     1       13   \n4     d220-236-91-52.dsl.n  19/Apr/2005:09:16:06             /     1       15   \n...                    ...                   ...           ...   ...      ...   \n5862  lj2362.inktomisearch  29/Apr/2005:07:45:51  /wynnum.html     1      462   \n5863  lj2362.inktomisearch  06/May/2005:21:18:30  /wynnum.html     1      780   \n5864  lj2362.inktomisearch  14/May/2005:09:18:38  /wynnum.html     1     1100   \n5865  lj2362.inktomisearch  21/May/2005:21:18:39  /wynnum.html     1     1475   \n5866  lj2362.inktomisearch  29/May/2005:09:18:44  /wynnum.html     1     1883   \n\n            5  \n0     user_id  \n1           3  \n2          12  \n3          13  \n4          15  \n...       ...  \n5862      462  \n5863      780  \n5864     1100  \n5865     1475  \n5866     1883  \n\n[5867 rows x 6 columns]\n\n\n"
     ]
    }
   ],
   "source": [
    "data = pd.read_csv('./web_log_data1.csv',header=None)\n",
    "print('Sayak Maji-18BCE0261')\n",
    "print(data)\n",
    "num_records = len(data)\n",
    "print(\"\\n\")"
   ]
  },
  {
   "cell_type": "code",
   "execution_count": 3,
   "metadata": {},
   "outputs": [
    {
     "output_type": "stream",
     "name": "stdout",
     "text": [
      "Sayak Maji-18BCE0261\n"
     ]
    }
   ],
   "source": [
    "records=[]\n",
    "for i in range(0,num_records):\n",
    "    records.append([str(data.values[i,j]) for j in range(0,6)])     #4 is no. of columns\n",
    "\n",
    "print('Sayak Maji-18BCE0261')\n"
   ]
  },
  {
   "cell_type": "code",
   "execution_count": 5,
   "metadata": {},
   "outputs": [
    {
     "output_type": "stream",
     "name": "stdout",
     "text": [
      "The no. of Association rules are:\n28\nThe results are:\n[RelationRecord(items=frozenset({'cpe-147-10-88-128.ql', '/'}), support=0.005454235554798023, ordered_statistics=[OrderedStatistic(items_base=frozenset({'cpe-147-10-88-128.ql'}), items_add=frozenset({'/'}), confidence=0.4776119402985074, lift=3.413092879088116)]), RelationRecord(items=frozenset({'/eaglefarm/contact', 'msnbot.msn.com'}), support=0.0056246804158854614, ordered_statistics=[OrderedStatistic(items_base=frozenset({'/eaglefarm/contact'}), items_add=frozenset({'msnbot.msn.com'}), confidence=0.3473684210526316, lift=6.490479383171304)]), RelationRecord(items=frozenset({'/eaglefarm/contact/', 'msnbot.msn.com'}), support=0.006136014999147775, ordered_statistics=[OrderedStatistic(items_base=frozenset({'/eaglefarm/contact/'}), items_add=frozenset({'msnbot.msn.com'}), confidence=0.3870967741935484, lift=7.2327922745017466)]), RelationRecord(items=frozenset({'/eaglefarm/pdf/Web_Price_List.pdf', '5'}), support=0.010397136526333731, ordered_statistics=[OrderedStatistic(items_base=frozenset({'/eaglefarm/pdf/Web_Price_List.pdf'}), items_add=frozenset({'5'}), confidence=0.20608108108108109, lift=3.6091871722468736)]), RelationRecord(items=frozenset({'6', '/eaglefarm/pdf/Web_Price_List.pdf'}), support=0.013124254303732742, ordered_statistics=[OrderedStatistic(items_base=frozenset({'/eaglefarm/pdf/Web_Price_List.pdf'}), items_add=frozenset({'6'}), confidence=0.26013513513513514, lift=5.412102261836305), OrderedStatistic(items_base=frozenset({'6'}), items_add=frozenset({'/eaglefarm/pdf/Web_Price_List.pdf'}), confidence=0.2730496453900709, lift=5.412102261836305)]), RelationRecord(items=frozenset({'/eaglefarm/pdf/Web_Price_List.pdf', '7'}), support=0.008863132776546788, ordered_statistics=[OrderedStatistic(items_base=frozenset({'7'}), items_add=frozenset({'/eaglefarm/pdf/Web_Price_List.pdf'}), confidence=0.22707423580786026, lift=4.5008261536645815)]), RelationRecord(items=frozenset({'/eaglefarm/pricelist', '3'}), support=0.014487813192432248, ordered_statistics=[OrderedStatistic(items_base=frozenset({'/eaglefarm/pricelist'}), items_add=frozenset({'3'}), confidence=0.4545454545454545, lift=4.415261890427453)]), RelationRecord(items=frozenset({'/eaglefarm/pricelist/', '4'}), support=0.01431736833134481, ordered_statistics=[OrderedStatistic(items_base=frozenset({'/eaglefarm/pricelist/'}), items_add=frozenset({'4'}), confidence=0.4444444444444444, lift=6.135424836601307)]), RelationRecord(items=frozenset({'cpe-203-51-234-80.ql', '/favicon.ico'}), support=0.0056246804158854614, ordered_statistics=[OrderedStatistic(items_base=frozenset({'cpe-203-51-234-80.ql'}), items_add=frozenset({'/favicon.ico'}), confidence=0.6226415094339622, lift=6.593930931135481)]), RelationRecord(items=frozenset({'/favicon.ico', 'visp.inabox.net'}), support=0.018067155275268452, ordered_statistics=[OrderedStatistic(items_base=frozenset({'visp.inabox.net'}), items_add=frozenset({'/favicon.ico'}), confidence=0.5463917525773195, lift=5.78642673713201)]), RelationRecord(items=frozenset({'/more.html', '3'}), support=0.009033577637634226, ordered_statistics=[OrderedStatistic(items_base=frozenset({'/more.html'}), items_add=frozenset({'3'}), confidence=0.36551724137931035, lift=3.5504795615437317)]), RelationRecord(items=frozenset({'msnbot.msn.com', '/richlands/contact'}), support=0.005965570138060337, ordered_statistics=[OrderedStatistic(items_base=frozenset({'/richlands/contact'}), items_add=frozenset({'msnbot.msn.com'}), confidence=0.5833333333333333, lift=10.899416135881102)]), RelationRecord(items=frozenset({'/richlands/contact/', 'msnbot.msn.com'}), support=0.006476904721322652, ordered_statistics=[OrderedStatistic(items_base=frozenset({'/richlands/contact/'}), items_add=frozenset({'msnbot.msn.com'}), confidence=0.5757575757575757, lift=10.757865276973556)]), RelationRecord(items=frozenset({'/robots.txt', 'lj2427.inktomisearch'}), support=0.005795125276972899, ordered_statistics=[OrderedStatistic(items_base=frozenset({'lj2427.inktomisearch'}), items_add=frozenset({'/robots.txt'}), confidence=1.0, lift=14.853164556962025)]), RelationRecord(items=frozenset({'/robots.txt', 'lj2439.inktomisearch'}), support=0.008010908471109596, ordered_statistics=[OrderedStatistic(items_base=frozenset({'lj2439.inktomisearch'}), items_add=frozenset({'/robots.txt'}), confidence=1.0, lift=14.853164556962025)]), RelationRecord(items=frozenset({'/robots.txt', 'lj2452.inktomisearch'}), support=0.008010908471109596, ordered_statistics=[OrderedStatistic(items_base=frozenset({'lj2452.inktomisearch'}), items_add=frozenset({'/robots.txt'}), confidence=1.0, lift=14.853164556962025)]), RelationRecord(items=frozenset({'/robots.txt', 'msnbot.msn.com'}), support=0.01244247485938299, ordered_statistics=[OrderedStatistic(items_base=frozenset({'msnbot.msn.com'}), items_add=frozenset({'/robots.txt'}), confidence=0.23248407643312102, lift=3.4531242441344836)]), RelationRecord(items=frozenset({'1', 'lj2427.inktomisearch'}), support=0.005795125276972899, ordered_statistics=[OrderedStatistic(items_base=frozenset({'lj2427.inktomisearch'}), items_add=frozenset({'1'}), confidence=1.0, lift=3.025786487880351)]), RelationRecord(items=frozenset({'1', 'lj2439.inktomisearch'}), support=0.008010908471109596, ordered_statistics=[OrderedStatistic(items_base=frozenset({'lj2439.inktomisearch'}), items_add=frozenset({'1'}), confidence=1.0, lift=3.025786487880351)]), RelationRecord(items=frozenset({'1', 'lj2452.inktomisearch'}), support=0.008010908471109596, ordered_statistics=[OrderedStatistic(items_base=frozenset({'lj2452.inktomisearch'}), items_add=frozenset({'1'}), confidence=1.0, lift=3.025786487880351)]), RelationRecord(items=frozenset({'visp.inabox.net', '1188'}), support=0.005454235554798023, ordered_statistics=[OrderedStatistic(items_base=frozenset({'1188'}), items_add=frozenset({'visp.inabox.net'}), confidence=1.0, lift=30.24226804123711)]), RelationRecord(items=frozenset({'visp.inabox.net', '1426'}), support=0.005454235554798023, ordered_statistics=[OrderedStatistic(items_base=frozenset({'1426'}), items_add=frozenset({'visp.inabox.net'}), confidence=1.0, lift=30.24226804123711)]), RelationRecord(items=frozenset({'1572', 'c220-237-94-169.ipsw'}), support=0.0056246804158854614, ordered_statistics=[OrderedStatistic(items_base=frozenset({'1572'}), items_add=frozenset({'c220-237-94-169.ipsw'}), confidence=1.0, lift=177.78787878787878), OrderedStatistic(items_base=frozenset({'c220-237-94-169.ipsw'}), items_add=frozenset({'1572'}), confidence=1.0, lift=177.78787878787878)]), RelationRecord(items=frozenset({'cpe-144-131-212-106.', '1887'}), support=0.010738026248508607, ordered_statistics=[OrderedStatistic(items_base=frozenset({'1887'}), items_add=frozenset({'cpe-144-131-212-106.'}), confidence=1.0, lift=93.12698412698413), OrderedStatistic(items_base=frozenset({'cpe-144-131-212-106.'}), items_add=frozenset({'1887'}), confidence=1.0, lift=93.12698412698413)]), RelationRecord(items=frozenset({'1', '/robots.txt', 'lj2427.inktomisearch'}), support=0.005795125276972899, ordered_statistics=[OrderedStatistic(items_base=frozenset({'lj2427.inktomisearch'}), items_add=frozenset({'1', '/robots.txt'}), confidence=1.0, lift=15.043589743589743), OrderedStatistic(items_base=frozenset({'/robots.txt', 'lj2427.inktomisearch'}), items_add=frozenset({'1'}), confidence=1.0, lift=3.025786487880351), OrderedStatistic(items_base=frozenset({'1', 'lj2427.inktomisearch'}), items_add=frozenset({'/robots.txt'}), confidence=1.0, lift=14.853164556962025)]), RelationRecord(items=frozenset({'1', '/robots.txt', 'lj2439.inktomisearch'}), support=0.008010908471109596, ordered_statistics=[OrderedStatistic(items_base=frozenset({'lj2439.inktomisearch'}), items_add=frozenset({'1', '/robots.txt'}), confidence=1.0, lift=15.043589743589743), OrderedStatistic(items_base=frozenset({'/robots.txt', 'lj2439.inktomisearch'}), items_add=frozenset({'1'}), confidence=1.0, lift=3.025786487880351), OrderedStatistic(items_base=frozenset({'1', 'lj2439.inktomisearch'}), items_add=frozenset({'/robots.txt'}), confidence=1.0, lift=14.853164556962025)]), RelationRecord(items=frozenset({'1', '/robots.txt', 'lj2452.inktomisearch'}), support=0.008010908471109596, ordered_statistics=[OrderedStatistic(items_base=frozenset({'lj2452.inktomisearch'}), items_add=frozenset({'1', '/robots.txt'}), confidence=1.0, lift=15.043589743589743), OrderedStatistic(items_base=frozenset({'/robots.txt', 'lj2452.inktomisearch'}), items_add=frozenset({'1'}), confidence=1.0, lift=3.025786487880351), OrderedStatistic(items_base=frozenset({'1', 'lj2452.inktomisearch'}), items_add=frozenset({'/robots.txt'}), confidence=1.0, lift=14.853164556962025)]), RelationRecord(items=frozenset({'1', '/robots.txt', 'msnbot.msn.com'}), support=0.011760695415033237, ordered_statistics=[OrderedStatistic(items_base=frozenset({'msnbot.msn.com'}), items_add=frozenset({'1', '/robots.txt'}), confidence=0.2197452229299363, lift=3.3057569818716317), OrderedStatistic(items_base=frozenset({'1', 'msnbot.msn.com'}), items_add=frozenset({'/robots.txt'}), confidence=0.6160714285714286, lift=9.150610307414105)])]\n"
     ]
    }
   ],
   "source": [
    "association_rules = apriori(records, min_support=0.0053, min_confidence=0.20, min_lift=3,min_length=2)\n",
    "association_results = list(association_rules)\n",
    "print(\"The no. of Association rules are:\")\n",
    "print(len(association_results))\n",
    "print(\"The results are:\")\n",
    "print(association_results)"
   ]
  },
  {
   "cell_type": "code",
   "execution_count": 10,
   "metadata": {},
   "outputs": [
    {
     "output_type": "stream",
     "name": "stdout",
     "text": [
      "Sayak Maji-18BCE0261\n"
     ]
    }
   ],
   "source": []
  },
  {
   "cell_type": "code",
   "execution_count": null,
   "metadata": {},
   "outputs": [],
   "source": [
    " "
   ]
  }
 ]
}