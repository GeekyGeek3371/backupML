{
 "metadata": {
  "language_info": {
   "codemirror_mode": {
    "name": "ipython",
    "version": 3
   },
   "file_extension": ".py",
   "mimetype": "text/x-python",
   "name": "python",
   "nbconvert_exporter": "python",
   "pygments_lexer": "ipython3",
   "version": "3.6.9-final"
  },
  "orig_nbformat": 2,
  "kernelspec": {
   "name": "python36964bit55d55954de964b92a821f9dd68bb8a06",
   "display_name": "Python 3.6.9 64-bit"
  }
 },
 "nbformat": 4,
 "nbformat_minor": 2,
 "cells": [
  {
   "cell_type": "code",
   "execution_count": 1,
   "metadata": {},
   "outputs": [],
   "source": [
    "import numpy as np\n",
    "import pandas as pd\n",
    "import matplotlib.pyplot as plt\n"
   ]
  },
  {
   "cell_type": "code",
   "execution_count": 2,
   "metadata": {},
   "outputs": [],
   "source": [
    "dataset = pd.read_csv('./Social_Network_Ads_log_reg.csv')\n",
    "gendermap = {'Male':0,'Female':1}\n",
    "dataset['Gender']=dataset['Gender'].map(gendermap)\n",
    "dataset2 = dataset.copy()\n",
    "dataset2 = dataset.drop(['Purchased'], axis=1)\n",
    "\n",
    "\n",
    "\n",
    "X = dataset2.iloc[:,1:].values\n",
    "y = dataset.iloc[:, 4].values"
   ]
  },
  {
   "cell_type": "code",
   "execution_count": 3,
   "metadata": {},
   "outputs": [],
   "source": [
    "from sklearn.preprocessing import LabelEncoder\n",
    "le = LabelEncoder()\n",
    "y = le.fit_transform(y)"
   ]
  },
  {
   "cell_type": "code",
   "execution_count": 4,
   "metadata": {},
   "outputs": [],
   "source": [
    "from sklearn.model_selection import train_test_split\n",
    "X_train, X_test, y_train, y_test = train_test_split(X, y, test_size = 0.25, random_state = 0)"
   ]
  },
  {
   "cell_type": "code",
   "execution_count": 5,
   "metadata": {},
   "outputs": [
    {
     "output_type": "stream",
     "name": "stdout",
     "text": [
      "[[     1     44  39000]\n [     0     32 120000]\n [     1     38  50000]\n [     1     32 135000]\n [     1     52  21000]\n [     1     53 104000]\n [     0     39  42000]\n [     0     38  61000]\n [     1     36  50000]\n [     1     36  63000]\n [     1     35  25000]\n [     0     35  50000]\n [     0     42  73000]\n [     1     47  49000]\n [     1     59  29000]\n [     0     49  65000]\n [     1     45 131000]\n [     1     31  89000]\n [     1     46  82000]\n [     1     47  51000]\n [     0     26  15000]\n [     0     60 102000]\n [     1     38 112000]\n [     0     40 107000]\n [     1     42  53000]\n [     0     35  59000]\n [     0     48  41000]\n [     1     48 134000]\n [     1     38 113000]\n [     0     29 148000]\n [     1     26  15000]\n [     0     60  42000]\n [     0     24  19000]\n [     0     42 149000]\n [     1     46  96000]\n [     0     28  59000]\n [     0     39  96000]\n [     0     28  89000]\n [     0     41  72000]\n [     0     45  26000]\n [     1     33  69000]\n [     1     20  82000]\n [     0     31  74000]\n [     0     42  80000]\n [     1     35  72000]\n [     1     33 149000]\n [     0     40  71000]\n [     1     51 146000]\n [     0     46  79000]\n [     0     35  75000]\n [     0     38  51000]\n [     1     36  75000]\n [     1     37  78000]\n [     0     38  61000]\n [     1     60 108000]\n [     1     20  82000]\n [     0     57  74000]\n [     0     42  65000]\n [     0     26  80000]\n [     0     46 117000]\n [     0     35  61000]\n [     1     21  68000]\n [     1     28  44000]\n [     0     41  87000]\n [     1     37  33000]\n [     0     27  90000]\n [     0     39  42000]\n [     0     28 123000]\n [     1     31 118000]\n [     0     25  87000]\n [     1     35  71000]\n [     0     37  70000]\n [     0     35  39000]\n [     0     47  23000]\n [     1     35 147000]\n [     1     48 138000]\n [     0     26  86000]\n [     0     25  79000]\n [     1     52 138000]\n [     0     51  23000]\n [     1     35  60000]\n [     1     33 113000]\n [     0     30 107000]\n [     0     48  33000]\n [     1     41  80000]\n [     1     48  96000]\n [     0     31  18000]\n [     1     31  71000]\n [     0     43 129000]\n [     1     59  76000]\n [     1     18  44000]\n [     0     36 118000]\n [     1     42  90000]\n [     1     47  30000]\n [     1     26  43000]\n [     0     40  78000]\n [     0     46  59000]\n [     1     59  42000]\n [     1     46  74000]\n [     0     35  91000]\n [     1     28  59000]\n [     0     40  57000]\n [     0     59 143000]\n [     1     57  26000]\n [     1     52  38000]\n [     1     47 113000]\n [     1     53 143000]\n [     0     35  27000]\n [     1     58 101000]\n [     1     45  45000]\n [     1     23  82000]\n [     0     46  23000]\n [     0     42  65000]\n [     1     28  84000]\n [     0     38  59000]\n [     1     26  84000]\n [     1     29  28000]\n [     1     37  71000]\n [     1     22  55000]\n [     1     48  35000]\n [     0     49  28000]\n [     1     38  65000]\n [     1     27  17000]\n [     0     46  28000]\n [     0     48 141000]\n [     1     26  17000]\n [     1     35  97000]\n [     1     39  59000]\n [     1     24  27000]\n [     0     32  18000]\n [     0     46  88000]\n [     0     35  58000]\n [     0     56  60000]\n [     0     47  34000]\n [     1     40  72000]\n [     0     32 100000]\n [     1     19  21000]\n [     0     25  90000]\n [     0     35  88000]\n [     0     28  32000]\n [     1     50  20000]\n [     0     40  59000]\n [     1     50  44000]\n [     0     35  72000]\n [     1     40 142000]\n [     1     46  32000]\n [     1     39  71000]\n [     0     20  74000]\n [     0     29  75000]\n [     0     31  76000]\n [     0     47  25000]\n [     0     40  61000]\n [     0     34 112000]\n [     1     38  80000]\n [     1     42  75000]\n [     1     47  47000]\n [     1     39  75000]\n [     0     19  25000]\n [     1     37  80000]\n [     0     36  60000]\n [     0     41  52000]\n [     0     36 125000]\n [     1     48  29000]\n [     1     36 126000]\n [     1     51 134000]\n [     1     27  57000]\n [     0     38  71000]\n [     1     39  61000]\n [     1     22  27000]\n [     1     33  60000]\n [     0     48  74000]\n [     1     58  23000]\n [     0     53  72000]\n [     1     32 117000]\n [     0     54  70000]\n [     0     30  80000]\n [     1     58  95000]\n [     1     26  52000]\n [     0     45  79000]\n [     0     24  55000]\n [     0     40  75000]\n [     1     33  28000]\n [     1     44 139000]\n [     0     22  18000]\n [     1     33  51000]\n [     1     43 133000]\n [     1     24  32000]\n [     1     46  22000]\n [     0     35  55000]\n [     1     54 104000]\n [     1     48 119000]\n [     0     35  53000]\n [     0     37 144000]\n [     1     23  66000]\n [     1     37 137000]\n [     0     31  58000]\n [     1     33  41000]\n [     1     45  22000]\n [     0     30  15000]\n [     0     19  19000]\n [     0     49  74000]\n [     0     39 122000]\n [     0     35  73000]\n [     0     39  71000]\n [     0     24  23000]\n [     1     41  72000]\n [     1     29  83000]\n [     1     54  26000]\n [     1     35  44000]\n [     0     37  75000]\n [     1     29  47000]\n [     1     31  68000]\n [     0     42  54000]\n [     0     30 135000]\n [     1     52 114000]\n [     1     50  36000]\n [     0     56 133000]\n [     0     29  61000]\n [     0     30  89000]\n [     0     26  16000]\n [     0     33  31000]\n [     1     41  72000]\n [     0     36  33000]\n [     1     55 125000]\n [     1     48 131000]\n [     1     41  71000]\n [     1     30  62000]\n [     0     37  72000]\n [     1     41  63000]\n [     1     58  47000]\n [     1     30 116000]\n [     0     20  49000]\n [     0     37  74000]\n [     0     41  59000]\n [     0     49  89000]\n [     0     28  79000]\n [     1     53  82000]\n [     0     40  57000]\n [     0     60  34000]\n [     0     35 108000]\n [     0     21  72000]\n [     0     38  71000]\n [     0     39 106000]\n [     1     37  57000]\n [     1     26  72000]\n [     1     35  23000]\n [     1     54 108000]\n [     0     30  17000]\n [     0     39 134000]\n [     0     29  43000]\n [     0     33  43000]\n [     0     35  38000]\n [     0     41  45000]\n [     1     41  72000]\n [     1     39 134000]\n [     1     27 137000]\n [     1     21  16000]\n [     0     26  32000]\n [     0     31  66000]\n [     1     39  73000]\n [     0     41  79000]\n [     1     47  50000]\n [     1     41  30000]\n [     1     37  93000]\n [     1     60  46000]\n [     0     25  22000]\n [     1     28  37000]\n [     1     38  55000]\n [     1     36  54000]\n [     1     20  36000]\n [     1     56 104000]\n [     0     40  57000]\n [     1     42 108000]\n [     1     20  23000]\n [     0     40  65000]\n [     0     47  20000]\n [     1     18  86000]\n [     0     35  79000]\n [     1     57  33000]\n [     1     34  72000]\n [     1     49  39000]\n [     1     27  31000]\n [     0     19  70000]\n [     1     39  79000]\n [     0     26  81000]\n [     0     25  80000]\n [     1     28  85000]\n [     0     55  39000]\n [     1     50  88000]\n [     0     49  88000]\n [     0     52 150000]\n [     1     35  65000]\n [     0     42  54000]\n [     0     34  43000]\n [     0     37  52000]\n [     1     48  30000]\n [     0     29  43000]\n [     0     36  52000]\n [     1     27  54000]\n [     1     26 118000]]\n"
     ]
    }
   ],
   "source": [
    "print(X_train)"
   ]
  },
  {
   "cell_type": "code",
   "execution_count": 6,
   "metadata": {},
   "outputs": [
    {
     "output_type": "stream",
     "name": "stdout",
     "text": [
      "[0 1 0 1 1 1 0 0 0 0 0 0 1 1 1 0 1 0 0 1 0 1 0 1 0 0 1 1 1 1 0 1 0 1 0 0 1\n 0 0 1 0 0 0 0 0 1 1 1 1 0 0 0 1 0 1 0 1 0 0 1 0 0 0 1 0 0 0 1 1 0 0 1 0 1\n 1 1 0 0 1 1 0 0 1 1 0 1 0 0 1 1 0 1 1 1 0 0 0 0 0 1 0 0 1 1 1 1 1 0 1 1 0\n 1 0 0 0 0 0 0 0 1 1 0 0 1 0 0 1 0 0 0 1 0 1 1 0 1 0 0 0 0 1 0 0 0 1 1 0 0\n 0 0 1 0 1 0 0 0 1 0 0 0 0 1 1 1 0 0 0 0 0 0 1 1 1 1 1 0 1 0 0 0 0 0 1 0 0\n 0 0 0 0 1 1 0 1 0 1 0 0 1 0 0 0 1 0 0 0 0 0 1 0 0 0 0 0 1 0 1 1 0 0 0 0 0\n 0 1 1 0 0 0 0 1 0 0 0 0 1 0 1 0 1 0 0 0 1 0 0 0 1 0 1 0 0 0 0 0 1 1 0 0 0\n 0 0 1 0 1 1 0 0 0 0 0 1 0 1 0 0 1 0 0 1 0 1 0 0 0 0 0 0 1 1 1 1 0 0 0 0 1\n 0 0 0 0]\n"
     ]
    }
   ],
   "source": [
    "print(y_train)"
   ]
  },
  {
   "cell_type": "code",
   "execution_count": 7,
   "metadata": {},
   "outputs": [
    {
     "output_type": "stream",
     "name": "stdout",
     "text": [
      "[[     0     30  87000]\n [     1     38  50000]\n [     0     35  75000]\n [     1     30  79000]\n [     1     35  50000]\n [     0     27  20000]\n [     1     31  15000]\n [     0     36 144000]\n [     1     18  68000]\n [     0     47  43000]\n [     0     30  49000]\n [     1     28  55000]\n [     0     37  55000]\n [     0     39  77000]\n [     0     20  86000]\n [     1     32 117000]\n [     0     37  77000]\n [     0     19  85000]\n [     1     55 130000]\n [     0     35  22000]\n [     1     35  47000]\n [     1     47 144000]\n [     1     41  51000]\n [     0     47 105000]\n [     1     23  28000]\n [     1     49 141000]\n [     1     28  87000]\n [     0     29  80000]\n [     1     37  62000]\n [     1     32  86000]\n [     0     21  88000]\n [     0     37  79000]\n [     0     57  60000]\n [     0     37  53000]\n [     0     24  58000]\n [     0     18  52000]\n [     0     22  81000]\n [     1     34  43000]\n [     1     31  34000]\n [     1     49  36000]\n [     0     27  88000]\n [     0     41  52000]\n [     1     27  84000]\n [     0     35  20000]\n [     1     43 112000]\n [     1     27  58000]\n [     1     37  80000]\n [     1     52  90000]\n [     0     26  30000]\n [     0     49  86000]\n [     1     57 122000]\n [     1     34  25000]\n [     1     35  57000]\n [     0     34 115000]\n [     1     59  88000]\n [     0     45  32000]\n [     1     29  83000]\n [     1     26  80000]\n [     0     49  28000]\n [     0     23  20000]\n [     0     32  18000]\n [     0     60  42000]\n [     0     19  76000]\n [     0     36  99000]\n [     1     19  26000]\n [     0     60  83000]\n [     1     24  89000]\n [     0     27  58000]\n [     0     40  47000]\n [     1     42  70000]\n [     1     32 150000]\n [     1     35  77000]\n [     1     22  63000]\n [     0     45  22000]\n [     0     27  89000]\n [     0     18  82000]\n [     1     42  79000]\n [     1     40  60000]\n [     1     53  34000]\n [     1     47 107000]\n [     0     58 144000]\n [     1     59  83000]\n [     1     24  55000]\n [     1     26  35000]\n [     1     58  38000]\n [     1     42  80000]\n [     1     40  75000]\n [     0     59 130000]\n [     1     46  41000]\n [     1     41  60000]\n [     0     42  64000]\n [     1     37 146000]\n [     1     23  48000]\n [     0     25  33000]\n [     0     24  84000]\n [     1     27  96000]\n [     0     23  63000]\n [     0     48  33000]\n [     0     48  90000]\n [     0     42 104000]]\n"
     ]
    }
   ],
   "source": [
    "print(X_test)"
   ]
  },
  {
   "cell_type": "code",
   "execution_count": 8,
   "metadata": {},
   "outputs": [
    {
     "output_type": "stream",
     "name": "stdout",
     "text": [
      "[0 0 0 0 0 0 0 1 0 0 0 0 0 0 0 0 0 0 1 0 0 1 0 1 0 1 0 0 0 0 0 1 1 0 0 0 0\n 0 0 1 0 0 0 0 1 0 0 1 0 1 1 0 0 0 1 1 0 0 1 0 0 1 0 1 0 1 0 0 0 0 1 0 0 1\n 0 0 0 0 1 1 1 0 0 0 1 1 0 1 1 0 0 1 0 0 0 1 0 1 1 1]\n"
     ]
    }
   ],
   "source": [
    "print(y_test)"
   ]
  },
  {
   "cell_type": "code",
   "execution_count": 9,
   "metadata": {},
   "outputs": [],
   "source": [
    "#feature scaling\n",
    "from sklearn.preprocessing import StandardScaler\n",
    "sc_X=StandardScaler()\n",
    "X_train=sc_X.fit_transform(X_train)\n",
    "X_test=sc_X.transform(X_test)\n",
    "#y consists of categorical values so we do not need to scale it\n"
   ]
  },
  {
   "cell_type": "code",
   "execution_count": 10,
   "metadata": {},
   "outputs": [],
   "source": [
    "#Building the classifier\n",
    "from sklearn.naive_bayes import GaussianNB\n",
    "classifier=GaussianNB()\n",
    "classifier.fit(X_train,y_train)\n",
    "\n",
    "#testing on the test set\n",
    "y_pred=classifier.predict(X_test)"
   ]
  },
  {
   "cell_type": "code",
   "execution_count": 13,
   "metadata": {},
   "outputs": [
    {
     "output_type": "stream",
     "name": "stdout",
     "text": [
      "correct predictions:91\nincorrect predictions:9\n[[66  2]\n [ 7 25]]\n"
     ]
    }
   ],
   "source": [
    "from sklearn.metrics import confusion_matrix\n",
    "cm=confusion_matrix(y_test,y_pred)\n",
    "pred_true=cm[0,0]+cm[1,1]\n",
    "pred_false=cm[0,1]+cm[1,0]\n",
    "print(\"correct predictions:\"+str(pred_true))\n",
    "print(\"incorrect predictions:\"+str(pred_false))\n",
    "print(cm)\n"
   ]
  },
  {
   "cell_type": "code",
   "execution_count": 15,
   "metadata": {},
   "outputs": [
    {
     "output_type": "stream",
     "name": "stdout",
     "text": [
      "\n"
     ]
    }
   ],
   "source": [
    "#visualising the training set results\n",
    "from matplotlib.colors import ListedColormap\n",
    "X_set, y_set = X_train, y_train\n",
    "'''meshgrid forms a grid or a matrix of all the pixels displayed on the screen  '''\n",
    "X1, X2 = np.meshgrid(np.arange(start = X_set[:, 0].min() - 1, stop = X_set[:, 0].max() + 1, step = 0.01),\n",
    "                     np.arange(start = X_set[:, 1].min() - 1, stop = X_set[:, 1].max() + 1, step = 0.01))\n",
    "'''\n",
    "this function makes a countour between the red and the green , \n",
    "it paints the pixels in the region in the graph as red and green according to the prediction \n",
    "'''\n",
    "plt.contourf(X1, X2, classifier.predict(np.array([X1.ravel(), X2.ravel()]).T).reshape(X1.shape),\n",
    "             alpha = 0.50, cmap = ListedColormap(('red', 'green')))\n",
    "plt.xlim(X1.min(), X1.max())\n",
    "plt.ylim(X2.min(), X2.max())\n",
    "for i, j in enumerate(np.unique(y_set)):\n",
    "    plt.scatter(X_set[y_set == j, 0], X_set[y_set == j, 1],\n",
    "                c = ListedColormap(('red', 'green'))(i), label = j)\n",
    "plt.title('Naive Bayes (Training set)')\n",
    "plt.xlabel('Age')\n",
    "plt.ylabel('Estimated Salary')\n",
    "plt.legend()\n",
    "plt.show()"
   ]
  },
  {
   "cell_type": "code",
   "execution_count": 16,
   "metadata": {},
   "outputs": [
    {
     "output_type": "stream",
     "name": "stdout",
     "text": [
      "\n"
     ]
    }
   ],
   "source": [
    "#visualising the test set results \n",
    "from matplotlib.colors import ListedColormap\n",
    "X_set, y_set = X_test, y_test\n",
    "X1, X2 = np.meshgrid(np.arange(start = X_set[:, 0].min() - 1, stop = X_set[:, 0].max() + 1, step = 0.01),\n",
    "                     np.arange(start = X_set[:, 1].min() - 1, stop = X_set[:, 1].max() + 1, step = 0.01))\n",
    "plt.contourf(X1, X2, classifier.predict(np.array([X1.ravel(), X2.ravel()]).T).reshape(X1.shape),\n",
    "             alpha = 0.50, cmap = ListedColormap(('red', 'green')))\n",
    "plt.xlim(X1.min(), X1.max())\n",
    "plt.ylim(X2.min(), X2.max())\n",
    "for i, j in enumerate(np.unique(y_set)):\n",
    "    plt.scatter(X_set[y_set == j, 0], X_set[y_set == j, 1],\n",
    "                c = ListedColormap(('red', 'green'))(i), label = j)\n",
    "plt.title('Naive Bayes (Test set)')\n",
    "plt.xlabel('Age')\n",
    "plt.ylabel('Estimated Salary')\n",
    "plt.legend()\n",
    "plt.show()"
   ]
  },
  {
   "cell_type": "code",
   "execution_count": null,
   "metadata": {},
   "outputs": [],
   "source": []
  }
 ]
}